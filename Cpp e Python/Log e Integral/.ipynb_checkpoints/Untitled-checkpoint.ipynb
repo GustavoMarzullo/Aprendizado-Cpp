{
 "cells": [
  {
   "cell_type": "code",
   "execution_count": 1,
   "id": "1031c93e",
   "metadata": {},
   "outputs": [],
   "source": [
    "from time import time\n",
    "from int_python import int as int_py\n",
    "from log_int import integral as int_cpp"
   ]
  },
  {
   "cell_type": "code",
   "execution_count": 6,
   "id": "bd6f10f0",
   "metadata": {},
   "outputs": [],
   "source": [
    "def main(n=10):\n",
    "    total_cpp=0\n",
    "    total_py=0\n",
    "    for i in range(n):\n",
    "        #C++\n",
    "        t0=time()\n",
    "        int_cpp(2,10)\n",
    "        t1=time()\n",
    "        total_cpp+=t1-t0\n",
    "\n",
    "        #Python\n",
    "        t0=time()\n",
    "        int_py(2,10)\n",
    "        t1=time()\n",
    "        total_py+=t1-t0\n",
    "    t_cpp=round(1000*total_cpp/n,1)\n",
    "    t_py=round(1000*total_py/n,1)\n",
    "    print('C++:',t_cpp,'ms\\n')\n",
    "    print('Python:',t_py,'ms\\n')\n",
    "    print('Python/C++ =',int(t_py/t_cpp),'\\n')"
   ]
  },
  {
   "cell_type": "code",
   "execution_count": 7,
   "id": "e246612d",
   "metadata": {},
   "outputs": [
    {
     "name": "stdout",
     "output_type": "stream",
     "text": [
      "C++: 29.5 ms\n",
      "Python: 5185.6 ms\n",
      "Python/C++ = 175\n"
     ]
    }
   ],
   "source": [
    "main()"
   ]
  },
  {
   "cell_type": "code",
   "execution_count": 8,
   "id": "d79a19fc",
   "metadata": {},
   "outputs": [
    {
     "data": {
      "text/plain": [
       "52151.0"
      ]
     },
     "execution_count": 8,
     "metadata": {},
     "output_type": "execute_result"
    }
   ],
   "source": [
    "29.5*10+5185.6*10"
   ]
  },
  {
   "cell_type": "code",
   "execution_count": null,
   "id": "8ac184eb",
   "metadata": {},
   "outputs": [],
   "source": []
  }
 ],
 "metadata": {
  "kernelspec": {
   "display_name": "Python 3",
   "language": "python",
   "name": "python3"
  },
  "language_info": {
   "codemirror_mode": {
    "name": "ipython",
    "version": 3
   },
   "file_extension": ".py",
   "mimetype": "text/x-python",
   "name": "python",
   "nbconvert_exporter": "python",
   "pygments_lexer": "ipython3",
   "version": "3.8.5"
  },
  "varInspector": {
   "cols": {
    "lenName": 16,
    "lenType": 16,
    "lenVar": 40
   },
   "kernels_config": {
    "python": {
     "delete_cmd_postfix": "",
     "delete_cmd_prefix": "del ",
     "library": "var_list.py",
     "varRefreshCmd": "print(var_dic_list())"
    },
    "r": {
     "delete_cmd_postfix": ") ",
     "delete_cmd_prefix": "rm(",
     "library": "var_list.r",
     "varRefreshCmd": "cat(var_dic_list()) "
    }
   },
   "types_to_exclude": [
    "module",
    "function",
    "builtin_function_or_method",
    "instance",
    "_Feature"
   ],
   "window_display": false
  }
 },
 "nbformat": 4,
 "nbformat_minor": 5
}
